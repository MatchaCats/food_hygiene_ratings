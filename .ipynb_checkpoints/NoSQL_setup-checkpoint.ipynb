{
 "cells": [
  {
   "cell_type": "markdown",
   "id": "9a57c4c6",
   "metadata": {},
   "source": [
    "# Eat Safe, Love"
   ]
  },
  {
   "cell_type": "markdown",
   "id": "064ef857",
   "metadata": {},
   "source": [
    "## Part 1: Database and Jupyter Notebook Set Up"
   ]
  },
  {
   "cell_type": "markdown",
   "id": "664e3c1f",
   "metadata": {},
   "source": [
    "Import the data provided in the `establishments.json` file from your Terminal. Name the database `uk_food` and the collection `establishments`.\n",
    "\n",
    "Within this markdown cell, copy the line of text you used to import the data from your Terminal. This way, future analysts will be able to repeat your process.\n",
    "\n",
    "e.g.: Import the dataset with\n",
    "```bash\n",
    "'mongoimport --db uk_food --collection establishments --drop --file establishments.json --jsonArray'"
   ]
  },
  {
   "cell_type": "code",
   "execution_count": 1,
   "id": "3ecdd008",
   "metadata": {},
   "outputs": [],
   "source": [
    "# Import dependencies\n",
    "from pymongo import MongoClient\n",
    "from pprint import pprint"
   ]
  },
  {
   "cell_type": "code",
   "execution_count": 3,
   "id": "59390c4a",
   "metadata": {},
   "outputs": [],
   "source": [
    "# Create an instance of MongoClient\n",
    "mongo = MongoClient(port=27017)"
   ]
  },
  {
   "cell_type": "code",
   "execution_count": 7,
   "id": "7f9ececa",
   "metadata": {},
   "outputs": [
    {
     "name": "stdout",
     "output_type": "stream",
     "text": [
      "The 'uk_food' database exists.\n"
     ]
    }
   ],
   "source": [
    "\n",
    "# Check if the 'uk_food' database exists\n",
    "if 'uk_food' in mongo.list_database_names():\n",
    "    # Access the 'uk_food' database\n",
    "    uk_food_db = mongo['uk_food']\n",
    "    \n",
    "    # Print the name of the database\n",
    "    print(f\"The '{uk_food_db.name}' database exists.\")\n",
    "else:\n",
    "    print(\"The 'uk_food' database was not found.\")"
   ]
  },
  {
   "cell_type": "code",
   "execution_count": 11,
   "id": "71e373c1",
   "metadata": {},
   "outputs": [],
   "source": [
    "# assign the uk_food database to a variable name\n",
    "db = mongo['uk_food']"
   ]
  },
  {
   "cell_type": "code",
   "execution_count": 13,
   "id": "ef1b89ed",
   "metadata": {},
   "outputs": [
    {
     "name": "stdout",
     "output_type": "stream",
     "text": [
      "['establishments']\n"
     ]
    }
   ],
   "source": [
    "# review the collections in our new database\n",
    "collections = db.list_collection_names()\n",
    "\n",
    "# Pretty print the list of collections\n",
    "pprint(collections)"
   ]
  },
  {
   "cell_type": "code",
   "execution_count": 15,
   "id": "6a0d92df",
   "metadata": {},
   "outputs": [
    {
     "name": "stdout",
     "output_type": "stream",
     "text": [
      "{'AddressLine1': 'The Bay',\n",
      " 'AddressLine2': 'St Margarets Bay',\n",
      " 'AddressLine3': 'Kent',\n",
      " 'AddressLine4': '',\n",
      " 'BusinessName': 'Refreshment Kiosk',\n",
      " 'BusinessType': 'Restaurant/Cafe/Canteen',\n",
      " 'BusinessTypeID': 1,\n",
      " 'ChangesByServerID': 0,\n",
      " 'Distance': 4587.347174863443,\n",
      " 'FHRSID': 254719,\n",
      " 'LocalAuthorityBusinessID': 'PI/000069980',\n",
      " 'LocalAuthorityCode': '182',\n",
      " 'LocalAuthorityEmailAddress': 'publicprotection@dover.gov.uk',\n",
      " 'LocalAuthorityName': 'Dover',\n",
      " 'LocalAuthorityWebSite': 'http://www.dover.gov.uk/',\n",
      " 'NewRatingPending': False,\n",
      " 'Phone': '',\n",
      " 'PostCode': 'CT15 6DY',\n",
      " 'RatingDate': '2022-03-24T00:00:00',\n",
      " 'RatingKey': 'fhrs_5_en-gb',\n",
      " 'RatingValue': '5',\n",
      " 'RightToReply': '',\n",
      " 'SchemeType': 'FHRS',\n",
      " '_id': ObjectId('6730125ebc16eb11b31d764d'),\n",
      " 'geocode': {'latitude': '51.152225', 'longitude': '1.387974'},\n",
      " 'links': [{'href': 'https://api.ratings.food.gov.uk/establishments/254719',\n",
      "            'rel': 'self'}],\n",
      " 'meta': {'dataSource': None,\n",
      "          'extractDate': '0001-01-01T00:00:00',\n",
      "          'itemCount': 0,\n",
      "          'pageNumber': 0,\n",
      "          'pageSize': 0,\n",
      "          'returncode': None,\n",
      "          'totalCount': 0,\n",
      "          'totalPages': 0},\n",
      " 'scores': {'ConfidenceInManagement': 5, 'Hygiene': 0, 'Structural': 5}}\n"
     ]
    }
   ],
   "source": [
    "# review a document in the establishments collection\n",
    "establishments_collection = db['establishments']\n",
    "\n",
    "# Find one document in the 'establishments' collection\n",
    "document = establishments_collection.find_one()\n",
    "\n",
    "# Pretty print the document\n",
    "pprint(document)"
   ]
  },
  {
   "cell_type": "code",
   "execution_count": 17,
   "id": "11c9f11b",
   "metadata": {},
   "outputs": [],
   "source": [
    "# assign the collection to a variable\n",
    "establishments = db['establishments']"
   ]
  },
  {
   "cell_type": "code",
   "execution_count": 29,
   "id": "336f681a-fe1c-498b-b56c-275befed55b8",
   "metadata": {},
   "outputs": [
    {
     "data": {
      "text/plain": [
       "Collection(Database(MongoClient(host=['localhost:27017'], document_class=dict, tz_aware=False, connect=True), 'uk_food'), 'establishments')"
      ]
     },
     "execution_count": 29,
     "metadata": {},
     "output_type": "execute_result"
    }
   ],
   "source": []
  },
  {
   "cell_type": "markdown",
   "id": "d5671434",
   "metadata": {},
   "source": [
    "## Part 2: Update the Database"
   ]
  },
  {
   "cell_type": "markdown",
   "id": "314bd884",
   "metadata": {},
   "source": [
    "1. An exciting new halal restaurant just opened in Greenwich, but hasn't been rated yet. The magazine has asked you to include it in your analysis. Add the following restaurant \"Penang Flavours\" to the database."
   ]
  },
  {
   "cell_type": "code",
   "execution_count": 19,
   "id": "c2da7648",
   "metadata": {},
   "outputs": [],
   "source": [
    "# Create a dictionary for the new restaurant data\n",
    "penang_flavours = {\n",
    "    \"Name\": \"Penang Flavours\",  # Name of the restaurant\n",
    "    \"BusinessType\": \"Restaurant\",  # Type of business\n",
    "    \"LocalAuthorityName\": \"Greenwich\",  # The local authority (location)\n",
    "    \"RatingValue\": None,  # No rating yet (can be updated later)\n",
    "    \"Address\": \"123 Example Street, Greenwich\",  # The restaurant's address (replace with real address)\n",
    "    \"Latitude\": None,  # Latitude is not provided\n",
    "    \"Longitude\": None,  # Longitude is not provided\n",
    "    \"HygieneScore\": None,  # Hygiene score is not provided yet\n",
    "    \"BusinessTypeID\": None  # BusinessTypeID can be filled later after querying the BusinessType collection\n",
    "}"
   ]
  },
  {
   "cell_type": "code",
   "execution_count": 21,
   "id": "a6e5cece",
   "metadata": {},
   "outputs": [
    {
     "data": {
      "text/plain": [
       "InsertOneResult(ObjectId('67303336e3bbd9ed9581d4c1'), acknowledged=True)"
      ]
     },
     "execution_count": 21,
     "metadata": {},
     "output_type": "execute_result"
    }
   ],
   "source": [
    "# Insert the new restaurant into the collection\n",
    "establishments.insert_one(penang_flavours)"
   ]
  },
  {
   "cell_type": "code",
   "execution_count": 23,
   "id": "63bb10f9",
   "metadata": {},
   "outputs": [
    {
     "name": "stdout",
     "output_type": "stream",
     "text": [
      "{'Address': '123 Example Street, Greenwich',\n",
      " 'BusinessType': 'Restaurant',\n",
      " 'BusinessTypeID': None,\n",
      " 'HygieneScore': None,\n",
      " 'Latitude': None,\n",
      " 'LocalAuthorityName': 'Greenwich',\n",
      " 'Longitude': None,\n",
      " 'Name': 'Penang Flavours',\n",
      " 'RatingValue': None,\n",
      " '_id': ObjectId('67303336e3bbd9ed9581d4c1')}\n"
     ]
    }
   ],
   "source": [
    "# Check that the new restaurant was inserted\n",
    "new_document = establishments.find_one({\"Name\": \"Penang Flavours\"})\n",
    "pprint(new_document)"
   ]
  },
  {
   "cell_type": "markdown",
   "id": "0ef4395a",
   "metadata": {},
   "source": [
    "2. Find the BusinessTypeID for \"Restaurant/Cafe/Canteen\" and return only the `BusinessTypeID` and `BusinessType` fields."
   ]
  },
  {
   "cell_type": "code",
   "execution_count": 37,
   "id": "93c63829",
   "metadata": {},
   "outputs": [
    {
     "name": "stdout",
     "output_type": "stream",
     "text": [
      "{'BusinessType': 'Restaurant/Cafe/Canteen',\n",
      " 'BusinessTypeID': 1,\n",
      " '_id': ObjectId('6730125ebc16eb11b31d764d')}\n"
     ]
    }
   ],
   "source": [
    "# Find the BusinessTypeID for \"Restaurant/Cafe/Canteen\" and return only the BusinessTypeID and BusinessType fields\n",
    "business_type = establishments.find_one(\n",
    "    {\"BusinessType\": \"Restaurant/Cafe/Canteen\"},  # Filter for the correct BusinessType\n",
    "    {\"BusinessTypeID\": 1, \"BusinessType\": 1}  # Project only BusinessTypeID and BusinessType\n",
    ")\n",
    "\n",
    "# Pretty print the result\n",
    "pprint(business_type)\n"
   ]
  },
  {
   "cell_type": "markdown",
   "id": "4e570caf",
   "metadata": {},
   "source": [
    "3. Update the new restaurant with the `BusinessTypeID` you found."
   ]
  },
  {
   "cell_type": "code",
   "execution_count": 39,
   "id": "7f599f3d",
   "metadata": {},
   "outputs": [],
   "source": [
    "# Update the new restaurant with the correct BusinessTypeID\n",
    "penang_flavours_id = establishments.update_one(\n",
    "    {\"Name\": \"Penang Flavours\"},\n",
    "    {\"$set\": {\"BusinessTypeID\": 1}}\n",
    ")"
   ]
  },
  {
   "cell_type": "code",
   "execution_count": 41,
   "id": "a6ad16f7",
   "metadata": {},
   "outputs": [
    {
     "name": "stdout",
     "output_type": "stream",
     "text": [
      "{'Address': '123 Example Street, Greenwich',\n",
      " 'BusinessType': 'Restaurant',\n",
      " 'BusinessTypeID': 1,\n",
      " 'HygieneScore': None,\n",
      " 'Latitude': None,\n",
      " 'LocalAuthorityName': 'Greenwich',\n",
      " 'Longitude': None,\n",
      " 'Name': 'Penang Flavours',\n",
      " 'RatingValue': None,\n",
      " '_id': ObjectId('67303336e3bbd9ed9581d4c1')}\n"
     ]
    }
   ],
   "source": [
    "# Confirm that the new restaurant was updated\n",
    "updated_document = establishments.find_one({\"Name\": \"Penang Flavours\"})\n",
    "pprint(updated_document)"
   ]
  },
  {
   "cell_type": "markdown",
   "id": "67281254",
   "metadata": {},
   "source": [
    "4. The magazine is not interested in any establishments in Dover, so check how many documents contain the Dover Local Authority. Then, remove any establishments within the Dover Local Authority from the database, and check the number of documents to ensure they were deleted."
   ]
  },
  {
   "cell_type": "code",
   "execution_count": 43,
   "id": "768474a6",
   "metadata": {},
   "outputs": [
    {
     "name": "stdout",
     "output_type": "stream",
     "text": [
      "Number of establishments in Dover: 994\n"
     ]
    }
   ],
   "source": [
    "# Find how many documents have LocalAuthorityName as \"Dover\"\n",
    "dover_count = establishments.count_documents({\"LocalAuthorityName\": \"Dover\"})\n",
    "\n",
    "# Print the result\n",
    "print(f\"Number of establishments in Dover: {dover_count}\")\n"
   ]
  },
  {
   "cell_type": "code",
   "execution_count": 45,
   "id": "a11d5f1b",
   "metadata": {},
   "outputs": [
    {
     "name": "stdout",
     "output_type": "stream",
     "text": [
      "Number of establishments deleted: 994\n"
     ]
    }
   ],
   "source": [
    "# Delete all documents where LocalAuthorityName is \"Dover\"\n",
    "result = establishments.delete_many({\"LocalAuthorityName\": \"Dover\"})\n",
    "\n",
    "# Print the number of deleted documents\n",
    "print(f\"Number of establishments deleted: {result.deleted_count}\")\n"
   ]
  },
  {
   "cell_type": "code",
   "execution_count": 47,
   "id": "2a51aba0",
   "metadata": {},
   "outputs": [
    {
     "name": "stdout",
     "output_type": "stream",
     "text": [
      "Number of establishments in Dover after removal: 0\n"
     ]
    }
   ],
   "source": [
    "# Check if any remaining documents include Dover\n",
    "dover_count_after = establishments.count_documents({\"LocalAuthorityName\": \"Dover\"})\n",
    "\n",
    "# Print the result\n",
    "print(f\"Number of establishments in Dover after removal: {dover_count_after}\")"
   ]
  },
  {
   "cell_type": "code",
   "execution_count": 49,
   "id": "8c356f7b",
   "metadata": {},
   "outputs": [
    {
     "name": "stdout",
     "output_type": "stream",
     "text": [
      "{'AddressLine1': 'East Cliff Pavilion',\n",
      " 'AddressLine2': 'Wear Bay Road',\n",
      " 'AddressLine3': 'Folkestone',\n",
      " 'AddressLine4': 'Kent',\n",
      " 'BusinessName': 'The Pavilion',\n",
      " 'BusinessType': 'Restaurant/Cafe/Canteen',\n",
      " 'BusinessTypeID': 1,\n",
      " 'ChangesByServerID': 0,\n",
      " 'Distance': 4591.765489457773,\n",
      " 'FHRSID': 1043695,\n",
      " 'LocalAuthorityBusinessID': 'PI/000073616',\n",
      " 'LocalAuthorityCode': '188',\n",
      " 'LocalAuthorityEmailAddress': 'foodteam@folkestone-hythe.gov.uk',\n",
      " 'LocalAuthorityName': 'Folkestone and Hythe',\n",
      " 'LocalAuthorityWebSite': 'http://www.folkestone-hythe.gov.uk',\n",
      " 'NewRatingPending': False,\n",
      " 'Phone': '',\n",
      " 'PostCode': 'CT19 6BL',\n",
      " 'RatingDate': '2018-04-04T00:00:00',\n",
      " 'RatingKey': 'fhrs_5_en-gb',\n",
      " 'RatingValue': '5',\n",
      " 'RightToReply': '',\n",
      " 'SchemeType': 'FHRS',\n",
      " '_id': ObjectId('6730125ebc16eb11b31d7926'),\n",
      " 'geocode': {'latitude': '51.083812', 'longitude': '1.195625'},\n",
      " 'links': [{'href': 'https://api.ratings.food.gov.uk/establishments/1043695',\n",
      "            'rel': 'self'}],\n",
      " 'meta': {'dataSource': None,\n",
      "          'extractDate': '0001-01-01T00:00:00',\n",
      "          'itemCount': 0,\n",
      "          'pageNumber': 0,\n",
      "          'pageSize': 0,\n",
      "          'returncode': None,\n",
      "          'totalCount': 0,\n",
      "          'totalPages': 0},\n",
      " 'scores': {'ConfidenceInManagement': 5, 'Hygiene': 5, 'Structural': 5}}\n"
     ]
    }
   ],
   "source": [
    "# Check that other documents remain with 'find_one'\n",
    "remaining_document = establishments.find_one()\n",
    "\n",
    "# Print the document (or its fields)\n",
    "pprint(remaining_document)"
   ]
  },
  {
   "attachments": {},
   "cell_type": "markdown",
   "id": "e9f1662d",
   "metadata": {},
   "source": [
    "5. Some of the number values are stored as strings, when they should be stored as numbers."
   ]
  },
  {
   "attachments": {},
   "cell_type": "markdown",
   "id": "c46df2df",
   "metadata": {},
   "source": [
    "Use `update_many` to convert `latitude` and `longitude` to decimal numbers."
   ]
  },
  {
   "cell_type": "code",
   "execution_count": 57,
   "id": "fd4112ce",
   "metadata": {},
   "outputs": [
    {
     "name": "stdout",
     "output_type": "stream",
     "text": [
      "Number of documents updated: 38785\n"
     ]
    }
   ],
   "source": [
    "# Change the data type from String to Decimal for longitude and latitude\n",
    "result = establishments.update_many(\n",
    "    {\"geocode.latitude\": {\"$type\": \"string\"}, \"geocode.longitude\": {\"$type\": \"string\"}},  # Match documents where geocode.latitude and geocode.longitude are strings\n",
    "    [\n",
    "        {\"$set\": {\n",
    "            \"geocode.latitude\": {\"$toDecimal\": \"$geocode.latitude\"},  # Convert geocode.latitude to Decimal128\n",
    "            \"geocode.longitude\": {\"$toDecimal\": \"$geocode.longitude\"}  # Convert geocode.longitude to Decimal128\n",
    "        }}\n",
    "    ]\n",
    ")\n",
    "\n",
    "# Print the number of documents updated\n",
    "print(f\"Number of documents updated: {result.modified_count}\")"
   ]
  },
  {
   "cell_type": "code",
   "execution_count": 59,
   "id": "537293a0-cca8-4bcc-bfab-5e654c17e09e",
   "metadata": {},
   "outputs": [
    {
     "name": "stdout",
     "output_type": "stream",
     "text": [
      "Updated geocode.latitude: 51.083812, Type: <class 'bson.decimal128.Decimal128'>\n",
      "Updated geocode.longitude: 1.195625, Type: <class 'bson.decimal128.Decimal128'>\n"
     ]
    }
   ],
   "source": [
    "# Verify by retrieving one document\n",
    "updated_document = establishments.find_one()\n",
    "\n",
    "# Check the data type and value of geocode.latitude and geocode.longitude\n",
    "print(f\"Updated geocode.latitude: {updated_document['geocode']['latitude']}, Type: {type(updated_document['geocode']['latitude'])}\")\n",
    "print(f\"Updated geocode.longitude: {updated_document['geocode']['longitude']}, Type: {type(updated_document['geocode']['longitude'])}\")\n"
   ]
  },
  {
   "attachments": {},
   "cell_type": "markdown",
   "id": "142e319c",
   "metadata": {},
   "source": [
    "Use `update_many` to convert `RatingValue` to integer numbers."
   ]
  },
  {
   "cell_type": "code",
   "execution_count": 61,
   "id": "04430a5b",
   "metadata": {},
   "outputs": [
    {
     "data": {
      "text/plain": [
       "UpdateResult({'n': 4091, 'nModified': 4091, 'ok': 1.0, 'updatedExisting': True}, acknowledged=True)"
      ]
     },
     "execution_count": 61,
     "metadata": {},
     "output_type": "execute_result"
    }
   ],
   "source": [
    "# Set non 1-5 Rating Values to Null\n",
    "non_ratings = [\"AwaitingInspection\", \"Awaiting Inspection\", \"AwaitingPublication\", \"Pass\", \"Exempt\"]\n",
    "establishments.update_many({\"RatingValue\": {\"$in\": non_ratings}}, [ {'$set':{ \"RatingValue\" : None}} ])"
   ]
  },
  {
   "cell_type": "code",
   "execution_count": 63,
   "id": "92524ccc",
   "metadata": {},
   "outputs": [
    {
     "name": "stdout",
     "output_type": "stream",
     "text": [
      "Number of documents updated: 34694\n"
     ]
    }
   ],
   "source": [
    "# Change the data type from String to Integer for RatingValue\n",
    "result = establishments.update_many(\n",
    "    {\"RatingValue\": {\"$type\": \"string\"}},  # Match documents where RatingValue is a string\n",
    "    [\n",
    "        {\"$set\": {\n",
    "            \"RatingValue\": {\"$toInt\": \"$RatingValue\"}  # Convert RatingValue to Integer\n",
    "        }}\n",
    "    ]\n",
    ")\n",
    "\n",
    "# Print the number of documents updated\n",
    "print(f\"Number of documents updated: {result.modified_count}\")"
   ]
  },
  {
   "cell_type": "code",
   "execution_count": 65,
   "id": "0deacaf9",
   "metadata": {},
   "outputs": [
    {
     "name": "stdout",
     "output_type": "stream",
     "text": [
      "Updated RatingValue: 5, Type: <class 'int'>\n"
     ]
    }
   ],
   "source": [
    "# Check that the coordinates and rating value are now numbers\n",
    "updated_document = establishments.find_one()\n",
    "\n",
    "# Check the data type and value of RatingValue\n",
    "print(f\"Updated RatingValue: {updated_document['RatingValue']}, Type: {type(updated_document['RatingValue'])}\")"
   ]
  },
  {
   "cell_type": "code",
   "execution_count": null,
   "id": "a79e463e-0cce-441a-887e-6dbb57e72694",
   "metadata": {},
   "outputs": [],
   "source": []
  }
 ],
 "metadata": {
  "kernelspec": {
   "display_name": "Python 3 (ipykernel)",
   "language": "python",
   "name": "python3"
  },
  "language_info": {
   "codemirror_mode": {
    "name": "ipython",
    "version": 3
   },
   "file_extension": ".py",
   "mimetype": "text/x-python",
   "name": "python",
   "nbconvert_exporter": "python",
   "pygments_lexer": "ipython3",
   "version": "3.11.7"
  }
 },
 "nbformat": 4,
 "nbformat_minor": 5
}
